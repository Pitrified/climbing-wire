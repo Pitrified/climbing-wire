{
 "cells": [
  {
   "cell_type": "code",
   "execution_count": null,
   "metadata": {},
   "outputs": [],
   "source": [
    "%load_ext autoreload\n",
    "%autoreload 2"
   ]
  },
  {
   "cell_type": "code",
   "execution_count": null,
   "metadata": {},
   "outputs": [],
   "source": [
    "from climbing_wire.utils.cv import cv_imshow\n",
    "from climbing_wire.utils.data import get_package_fol\n",
    "from climbing_wire.video.load import (\n",
    "    iterate_video_frames,\n",
    "    iterate_video_frames_with_timestamp,\n",
    "    pairwise_video_frames,\n",
    ")\n",
    "from matplotlib import pyplot as plt\n",
    "from pathlib import Path\n",
    "import cv2 as cv\n",
    "import math\n",
    "import matplotlib.pyplot as plt\n",
    "import mediapipe as mp\n",
    "import numpy as np\n"
   ]
  },
  {
   "cell_type": "code",
   "execution_count": null,
   "metadata": {},
   "outputs": [],
   "source": [
    "in_fol = Path(\"/mnt/c/Users/nobilip/Videos/dataset/rock\")\n",
    "# in_fn = \"PXL_20220901_202119640.mp4\"\n",
    "# in_fn = \"PXL_20230401_135540281.TS.mp4\"\n",
    "in_fn = \"empty.mp4\"\n",
    "\n",
    "# in_fol = Path(\"~/data/rock\").expanduser()\n",
    "# in_fn = \"nonaka_miho_01.mp4\"\n",
    "\n",
    "in_vid_path = in_fol / in_fn\n",
    "print(f\"{in_vid_path=}\")\n"
   ]
  },
  {
   "cell_type": "code",
   "execution_count": null,
   "metadata": {},
   "outputs": [],
   "source": [
    "i = 0\n",
    "for frame in iterate_video_frames(in_vid_path, msec_interval=0):\n",
    "    # cv_imshow(frame)\n",
    "    i+= 1\n",
    "    if i > 10:\n",
    "        break\n"
   ]
  },
  {
   "cell_type": "code",
   "execution_count": null,
   "metadata": {},
   "outputs": [],
   "source": [
    "(\n",
    "    1000 / 30.078464040805024,\n",
    "    1000 / 33.233333333333334,\n",
    "    1000 / 168.23333333333335 * 5,\n",
    "    1000 / 332.85555555555555 * 10,\n",
    ")\n"
   ]
  },
  {
   "cell_type": "code",
   "execution_count": null,
   "metadata": {},
   "outputs": [],
   "source": [
    "i = 0\n",
    "for frame in iterate_video_frames(in_vid_path, msec_interval=100):\n",
    "    # cv_imshow(frame)\n",
    "    i += 1\n",
    "    if i > 5:\n",
    "        break\n"
   ]
  },
  {
   "cell_type": "code",
   "execution_count": null,
   "metadata": {},
   "outputs": [],
   "source": [
    "frame1, frame2 = next(pairwise_video_frames(in_vid_path, msec_interval=10000))\n",
    "fig, axes = plt.subplots(1, 2)\n",
    "cv_imshow(frame1, ax=axes[0])\n",
    "cv_imshow(frame2, ax=axes[1])\n"
   ]
  },
  {
   "cell_type": "code",
   "execution_count": null,
   "metadata": {},
   "outputs": [],
   "source": [
    "ivfwt = iterate_video_frames_with_timestamp(\n",
    "    in_vid_path,\n",
    "    keep_every_nth_frame=10,\n",
    ")\n",
    "# _ = next(ivfwt)\n",
    "# _ = next(ivfwt)\n",
    "# _ = next(ivfwt)\n",
    "frame1, usec1 = next(ivfwt)\n",
    "frame2, usec2 = next(ivfwt)\n",
    "fig, axes = plt.subplots(1, 2)\n",
    "ax=axes[0]\n",
    "ax.set_title(f\"{usec1=}\")\n",
    "cv_imshow(frame1, ax=ax)\n",
    "ax=axes[1]\n",
    "ax.set_title(f\"{usec2=}\")\n",
    "cv_imshow(frame2, ax=ax)\n"
   ]
  }
 ],
 "metadata": {
  "kernelspec": {
   "display_name": "climbing-wire-IpulR3Hj-py3.11",
   "language": "python",
   "name": "python3"
  },
  "language_info": {
   "codemirror_mode": {
    "name": "ipython",
    "version": 3
   },
   "file_extension": ".py",
   "mimetype": "text/x-python",
   "name": "python",
   "nbconvert_exporter": "python",
   "pygments_lexer": "ipython3",
   "version": "3.11.2"
  },
  "orig_nbformat": 4
 },
 "nbformat": 4,
 "nbformat_minor": 2
}
