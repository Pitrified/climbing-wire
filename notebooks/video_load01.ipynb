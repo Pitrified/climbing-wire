{
 "cells": [
  {
   "cell_type": "code",
   "execution_count": null,
   "metadata": {},
   "outputs": [],
   "source": [
    "%load_ext autoreload\n",
    "%autoreload 2"
   ]
  },
  {
   "cell_type": "code",
   "execution_count": null,
   "metadata": {},
   "outputs": [],
   "source": [
    "from climbing_wire.utils.cv import cv_imshow\n",
    "from climbing_wire.utils.data import get_package_fol\n",
    "from climbing_wire.video.load import iterate_video_frames, pairwise_video_frames\n",
    "from matplotlib import pyplot as plt\n",
    "from pathlib import Path\n",
    "import cv2 as cv\n",
    "import math\n",
    "import matplotlib.pyplot as plt\n",
    "import mediapipe as mp\n",
    "import numpy as np\n"
   ]
  },
  {
   "cell_type": "code",
   "execution_count": null,
   "metadata": {},
   "outputs": [],
   "source": [
    "# in_fol = Path(\"/mnt/c/Users/nobilip/Videos/dataset/rock\")\n",
    "# in_fn = \"PXL_20220901_202119640.mp4\"\n",
    "\n",
    "in_fol = Path(\"~/data/rock\").expanduser()\n",
    "in_fn = \"nonaka_miho_01.mp4\"\n",
    "\n",
    "in_vid_path = in_fol / in_fn\n",
    "print(f\"{in_vid_path=}\")\n"
   ]
  },
  {
   "cell_type": "code",
   "execution_count": null,
   "metadata": {},
   "outputs": [],
   "source": [
    "for frame in iterate_video_frames(in_vid_path, msec_interval=0):\n",
    "    print(\"showing\")\n",
    "    cv_imshow(frame)\n",
    "    break\n"
   ]
  },
  {
   "cell_type": "code",
   "execution_count": null,
   "metadata": {},
   "outputs": [],
   "source": [
    "frame1, frame2 = next(pairwise_video_frames(in_vid_path, msec_interval=10000))\n",
    "fig, axes = plt.subplots(1, 2)\n",
    "cv_imshow(frame1, ax=axes[0])\n",
    "cv_imshow(frame2, ax=axes[1])\n"
   ]
  }
 ],
 "metadata": {
  "kernelspec": {
   "display_name": "climbing-wire-IpulR3Hj-py3.11",
   "language": "python",
   "name": "python3"
  },
  "language_info": {
   "codemirror_mode": {
    "name": "ipython",
    "version": 3
   },
   "file_extension": ".py",
   "mimetype": "text/x-python",
   "name": "python",
   "nbconvert_exporter": "python",
   "pygments_lexer": "ipython3",
   "version": "3.11.2"
  },
  "orig_nbformat": 4
 },
 "nbformat": 4,
 "nbformat_minor": 2
}
