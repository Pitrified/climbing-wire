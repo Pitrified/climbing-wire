{
 "cells": [
  {
   "cell_type": "code",
   "execution_count": null,
   "metadata": {},
   "outputs": [],
   "source": [
    "%load_ext autoreload\n",
    "%autoreload 2"
   ]
  },
  {
   "cell_type": "markdown",
   "metadata": {},
   "source": [
    "https://colab.research.google.com/drive/1uCuA6We9T5r0WljspEHWPHXCT_2bMKUy"
   ]
  },
  {
   "cell_type": "code",
   "execution_count": null,
   "metadata": {},
   "outputs": [],
   "source": [
    "from climbing_wire.landmark.compute import PoseImg\n",
    "from climbing_wire.landmark.compute import compute_landmarks\n",
    "from climbing_wire.landmark.drawing import draw_landmarks\n",
    "from climbing_wire.utils.cv import cv_imshow\n",
    "from climbing_wire.utils.data import get_package_fol\n",
    "from climbing_wire.utils.mediapipe import get_default_pose_connections\n",
    "from typing import List, Tuple, cast\n",
    "import cv2 as cv\n",
    "import math\n",
    "import matplotlib.pyplot as plt\n",
    "import mediapipe as mp\n",
    "import pathlib\n",
    "import sys"
   ]
  },
  {
   "cell_type": "code",
   "execution_count": null,
   "metadata": {},
   "outputs": [],
   "source": [
    "import mediapipe.python.solutions.pose as mp_pose\n",
    "import mediapipe.python.solutions.drawing_utils as mp_drawing\n",
    "import mediapipe.python.solutions.drawing_styles as mp_drawing_styles\n"
   ]
  },
  {
   "cell_type": "code",
   "execution_count": null,
   "metadata": {},
   "outputs": [],
   "source": [
    "pose_connections = get_default_pose_connections()\n"
   ]
  },
  {
   "cell_type": "code",
   "execution_count": null,
   "metadata": {},
   "outputs": [],
   "source": [
    "img_fol = get_package_fol(\"sample_square\")\n"
   ]
  },
  {
   "cell_type": "code",
   "execution_count": null,
   "metadata": {},
   "outputs": [],
   "source": [
    "# Read images with OpenCV.\n",
    "imgs = {img_path.name: cv.imread(str(img_path)) for img_path in img_fol.iterdir()}\n",
    "img_names = list(imgs)\n"
   ]
  },
  {
   "attachments": {},
   "cell_type": "markdown",
   "metadata": {},
   "source": [
    "A manazza compute the landmarks using a Pose object"
   ]
  },
  {
   "cell_type": "code",
   "execution_count": null,
   "metadata": {},
   "outputs": [],
   "source": [
    "img1 = imgs[img_names[0]]\n",
    "\n",
    "pose = mp_pose.Pose(\n",
    "    static_image_mode=True,\n",
    "    min_detection_confidence=0.5,\n",
    "    model_complexity=2,\n",
    ")\n",
    "\n",
    "pose_landmarks = compute_landmarks(img1, pose)\n",
    "\n",
    "if pose_landmarks is not None:\n",
    "    annotated_image = img1.copy()\n",
    "    mp_drawing.draw_landmarks(\n",
    "        annotated_image,\n",
    "        pose_landmarks,\n",
    "        pose_connections,\n",
    "        landmark_drawing_spec=mp_drawing_styles.get_default_pose_landmarks_style(),\n",
    "    )\n",
    "    cv_imshow(annotated_image)\n"
   ]
  },
  {
   "attachments": {},
   "cell_type": "markdown",
   "metadata": {},
   "source": [
    "Use the `PoseImg` wrapper and drawing utils."
   ]
  },
  {
   "cell_type": "code",
   "execution_count": null,
   "metadata": {},
   "outputs": [],
   "source": [
    "pl = PoseImg(\n",
    "    static_image_mode=True,\n",
    "    min_detection_confidence=0.5,\n",
    "    model_complexity=2,\n",
    ")\n",
    "print(f\"{pl=}\")\n",
    "\n",
    "pose_landmarks = pl(img1)\n",
    "\n",
    "if pose_landmarks is not None:\n",
    "    annotated_image = img1.copy()\n",
    "    draw_landmarks(\n",
    "        annotated_image,\n",
    "        pose_landmarks,\n",
    "        pose_connections,\n",
    "        landmark_drawing_spec=mp_drawing_styles.get_default_pose_landmarks_style(),\n",
    "    )\n",
    "    cv_imshow(annotated_image)\n"
   ]
  }
 ],
 "metadata": {
  "kernelspec": {
   "display_name": "climbing-wire-mNXHxvhL-py3.11",
   "language": "python",
   "name": "python3"
  },
  "language_info": {
   "codemirror_mode": {
    "name": "ipython",
    "version": 3
   },
   "file_extension": ".py",
   "mimetype": "text/x-python",
   "name": "python",
   "nbconvert_exporter": "python",
   "pygments_lexer": "ipython3",
   "version": "3.11.2"
  },
  "orig_nbformat": 4
 },
 "nbformat": 4,
 "nbformat_minor": 2
}
