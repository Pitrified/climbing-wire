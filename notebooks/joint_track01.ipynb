{
 "cells": [
  {
   "cell_type": "code",
   "execution_count": null,
   "metadata": {},
   "outputs": [],
   "source": [
    "%load_ext autoreload\n",
    "%autoreload 2"
   ]
  },
  {
   "attachments": {},
   "cell_type": "markdown",
   "metadata": {},
   "source": [
    "# Experiments with the JointTracker class"
   ]
  },
  {
   "cell_type": "code",
   "execution_count": null,
   "metadata": {},
   "outputs": [],
   "source": [
    "from climbing_wire.homography.homography import compute_homography\n",
    "from climbing_wire.homography.homography import perspective_transform\n",
    "from climbing_wire.landmark.compute import PoseImg\n",
    "from climbing_wire.landmark.compute import compute_landmarks\n",
    "from climbing_wire.landmark.drawing import draw_landmarks\n",
    "from climbing_wire.landmark.landmark_list import LandmarkListImg\n",
    "from climbing_wire.utils.cv import cv_imshow\n",
    "from climbing_wire.utils.data import get_package_fol\n",
    "from climbing_wire.utils.mediapipe import JOINT_NAMES\n",
    "from climbing_wire.utils.mediapipe import get_default_pose_connections\n",
    "from climbing_wire.video.load import iterate_video_frames, pairwise_video_frames\n",
    "from matplotlib import pyplot as plt\n",
    "from pathlib import Path\n",
    "from typing import List, Tuple, cast\n",
    "import cv2 as cv\n",
    "import math\n",
    "import matplotlib.pyplot as plt\n",
    "import mediapipe as mp\n",
    "import mediapipe.python.solutions.drawing_styles as mp_drawing_styles\n",
    "import mediapipe.python.solutions.drawing_utils as mp_drawing\n",
    "import mediapipe.python.solutions.pose as mp_pose\n",
    "import numpy as np\n",
    "import pathlib\n",
    "import sys\n"
   ]
  },
  {
   "cell_type": "code",
   "execution_count": null,
   "metadata": {},
   "outputs": [],
   "source": [
    "# in_fol = Path(\"/mnt/c/Users/nobilip/Videos/dataset/rock\")\n",
    "# in_fn = \"PXL_20220901_202119640.mp4\"\n",
    "\n",
    "in_fol = Path(\"~/data/rock\").expanduser()\n",
    "in_fn = \"yoshiyuki_ogata_01.mp4\"\n",
    "\n",
    "in_vid_path = in_fol / in_fn\n"
   ]
  },
  {
   "cell_type": "code",
   "execution_count": null,
   "metadata": {},
   "outputs": [],
   "source": [
    "img1, img2 = next(pairwise_video_frames(in_vid_path, msec_interval=1000))\n"
   ]
  },
  {
   "cell_type": "code",
   "execution_count": null,
   "metadata": {},
   "outputs": [],
   "source": [
    "\n",
    "fig, axes = plt.subplots(1, 2)\n",
    "cv_imshow(img1, ax=axes[0])\n",
    "cv_imshow(img2, ax=axes[1])\n"
   ]
  },
  {
   "cell_type": "code",
   "execution_count": null,
   "metadata": {},
   "outputs": [],
   "source": [
    "from climbing_wire.joint_tracker.joint_tracker import JointTracker\n",
    "\n",
    "pose_img_kwargs = {\n",
    "    \"static_image_mode\": True,\n",
    "    \"model_complexity\": 2,\n",
    "}\n",
    "\n",
    "jt = JointTracker(pose_img_kwargs=pose_img_kwargs)\n"
   ]
  },
  {
   "cell_type": "code",
   "execution_count": null,
   "metadata": {},
   "outputs": [],
   "source": [
    "jt.process_frame_pair(img1, img2)\n"
   ]
  },
  {
   "attachments": {},
   "cell_type": "markdown",
   "metadata": {},
   "source": [
    "## For all frames now"
   ]
  },
  {
   "cell_type": "code",
   "execution_count": null,
   "metadata": {},
   "outputs": [],
   "source": [
    "pose_img_kwargs = {\n",
    "    \"static_image_mode\": False,\n",
    "    \"model_complexity\": 2,\n",
    "}\n",
    "\n",
    "jt = JointTracker(pose_img_kwargs=pose_img_kwargs)\n"
   ]
  },
  {
   "cell_type": "code",
   "execution_count": null,
   "metadata": {},
   "outputs": [],
   "source": [
    "def_lds = mp_drawing_styles.get_default_pose_landmarks_style()\n",
    "\n",
    "for idx, (img1, img2) in enumerate(\n",
    "    # pairwise_video_frames(in_vid_path, msec_interval=1000)\n",
    "    pairwise_video_frames(in_vid_path, msec_interval=200)\n",
    "):\n",
    "    jt.process_frame_pair(img1, img2)\n",
    "    if jt.landlist is not None:\n",
    "        ann2 = img2.copy()\n",
    "        draw_landmarks(ann2, jt.landlist, landmark_drawing_spec=def_lds)\n",
    "        fig, ax = plt.subplots(1, 1)\n",
    "        cv_imshow(ann2, ax=ax)\n",
    "        ax.set_title(f\"Frame {idx}\")\n",
    "        plt.show()\n",
    "    if idx > 10:\n",
    "        break\n"
   ]
  },
  {
   "cell_type": "code",
   "execution_count": null,
   "metadata": {},
   "outputs": [],
   "source": [
    "tr_lf = jt.joint_hists['left_foot'].track\n",
    "tr_lf"
   ]
  },
  {
   "cell_type": "code",
   "execution_count": null,
   "metadata": {},
   "outputs": [],
   "source": [
    "fig, axes = plt.subplots(1, 1)\n",
    "ax = axes\n",
    "cv_imshow(img2, ax=ax)\n",
    "ax.scatter(*tr_lf.T, color=\"red\", s=1)\n"
   ]
  }
 ],
 "metadata": {
  "kernelspec": {
   "display_name": "climbing-wire-QE_zNl6X-py3.11",
   "language": "python",
   "name": "python3"
  },
  "language_info": {
   "codemirror_mode": {
    "name": "ipython",
    "version": 3
   },
   "file_extension": ".py",
   "mimetype": "text/x-python",
   "name": "python",
   "nbconvert_exporter": "python",
   "pygments_lexer": "ipython3",
   "version": "3.11.2"
  },
  "orig_nbformat": 4
 },
 "nbformat": 4,
 "nbformat_minor": 2
}
