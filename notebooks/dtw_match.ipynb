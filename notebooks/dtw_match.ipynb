{
 "cells": [
  {
   "cell_type": "code",
   "execution_count": null,
   "metadata": {},
   "outputs": [],
   "source": [
    "%load_ext autoreload\n",
    "%autoreload 2"
   ]
  },
  {
   "cell_type": "code",
   "execution_count": null,
   "metadata": {},
   "outputs": [],
   "source": [
    "from IPython import display\n",
    "from climbing_wire.homography.homography import compute_homography\n",
    "from climbing_wire.homography.homography import perspective_transform\n",
    "from climbing_wire.landmark.compute import PoseImg\n",
    "from climbing_wire.landmark.compute import compute_landmarks\n",
    "from climbing_wire.landmark.drawing import draw_landmarks\n",
    "from climbing_wire.landmark.landmark_list import LandmarkListImg\n",
    "from climbing_wire.utils.cv import cv_imshow\n",
    "from climbing_wire.utils.data import get_package_fol\n",
    "from climbing_wire.utils.mediapipe import JOINT_NAMES\n",
    "from climbing_wire.utils.mediapipe import get_default_pose_connections\n",
    "from climbing_wire.video.load import iterate_video_frames\n",
    "from climbing_wire.video.load import iterate_video_frames_with_timestamp\n",
    "from climbing_wire.video.load import pairwise_video_frames\n",
    "from loguru import logger as lg\n",
    "from matplotlib import pyplot as plt\n",
    "from pathlib import Path\n",
    "from typing import List, Tuple, cast\n",
    "import cv2 as cv\n",
    "import math\n",
    "import matplotlib.pyplot as plt\n",
    "import mediapipe as mp\n",
    "import mediapipe.python.solutions.drawing_styles as mp_drawing_styles\n",
    "import mediapipe.python.solutions.drawing_utils as mp_drawing\n",
    "import mediapipe.python.solutions.pose as mp_pose\n",
    "import numpy as np\n",
    "import pathlib\n",
    "import sys\n"
   ]
  },
  {
   "cell_type": "code",
   "execution_count": null,
   "metadata": {},
   "outputs": [],
   "source": [
    "from dataclasses import dataclass\n",
    "\n",
    "\n",
    "@dataclass\n",
    "class Frame:\n",
    "    frame: np.ndarray\n",
    "    usec: int\n",
    "    idx: int\n"
   ]
  },
  {
   "cell_type": "code",
   "execution_count": null,
   "metadata": {},
   "outputs": [],
   "source": [
    "in_fol = Path(\"/mnt/c/Users/nobilip/Videos/dataset/rock\")\n",
    "person_fn = \"PXL_20230401_135540281.TS.mp4\"\n",
    "empty_fn = \"empty.mp4\"\n",
    "\n",
    "# in_fol = Path(\"~/data/rock\")\n",
    "# in_fn = \"nonaka_miho_01.mp4\"\n",
    "\n",
    "person_vid_path = in_fol / person_fn\n",
    "empty_vid_path = in_fol / empty_fn\n"
   ]
  },
  {
   "cell_type": "code",
   "execution_count": null,
   "metadata": {},
   "outputs": [],
   "source": [
    "per_frames: list[Frame] = []\n",
    "\n",
    "max_num_frames = 30\n",
    "frame_num = 0\n",
    "\n",
    "for frame, usec in iterate_video_frames_with_timestamp(\n",
    "    person_vid_path,\n",
    "    keep_every_nth_frame=10,\n",
    "):\n",
    "    # print(usec)\n",
    "    f = Frame(frame=frame, usec=usec, idx=frame_num)\n",
    "    per_frames.append(f)\n",
    "\n",
    "    frame_num += 1\n",
    "    if frame_num >= max_num_frames:\n",
    "        break\n",
    "print(f\"{len(per_frames)} frames\")\n"
   ]
  },
  {
   "cell_type": "code",
   "execution_count": null,
   "metadata": {},
   "outputs": [],
   "source": [
    "empty_frames: list[Frame] = []\n",
    "frame_num = 0\n",
    "\n",
    "for frame, usec in iterate_video_frames_with_timestamp(\n",
    "    empty_vid_path,\n",
    "    keep_every_nth_frame=3,\n",
    "):\n",
    "    # print(usec)\n",
    "    f = Frame(frame=frame, usec=usec, idx=frame_num)\n",
    "    empty_frames.append(f)\n",
    "\n",
    "    frame_num += 1\n",
    "    if frame_num >= max_num_frames:\n",
    "        break\n",
    "\n",
    "print(len(empty_frames))\n"
   ]
  },
  {
   "cell_type": "code",
   "execution_count": null,
   "metadata": {},
   "outputs": [],
   "source": [
    "def show_frame(\n",
    "    frame: Frame,\n",
    "    ax: plt.Axes | None = None,\n",
    "):\n",
    "    if ax is None:\n",
    "        fig, ax = plt.subplots(1, 1)\n",
    "\n",
    "    ax.set_title(f\"{frame.idx} @ {frame.usec}\")\n",
    "\n",
    "    ax_params = dict(\n",
    "        which=\"both\",\n",
    "        # bottom=False,\n",
    "        # top=False,\n",
    "        # left=False,\n",
    "        # right=False,\n",
    "        labelbottom=False,\n",
    "        labeltop=False,\n",
    "        labelleft=False,\n",
    "        labelright=False,\n",
    "    )\n",
    "    ax.tick_params(**ax_params)\n",
    "\n",
    "    cv_imshow(frame.frame, ax=ax)\n",
    "\n",
    "\n",
    "fig, ax = plt.subplots(1, 2)\n",
    "show_frame(per_frames[7], ax=ax[0])\n",
    "show_frame(empty_frames[11], ax=ax[1])\n"
   ]
  },
  {
   "cell_type": "code",
   "execution_count": null,
   "metadata": {},
   "outputs": [],
   "source": [
    "def show_warp(f1: Frame, f2: Frame, M: np.ndarray) -> None:\n",
    "    \"\"\"Draw the first image warped on the second.\"\"\"\n",
    "    f1img = f1.frame\n",
    "    f2img = f2.frame\n",
    "\n",
    "    corners = np.array(\n",
    "        [\n",
    "            [0, 0],\n",
    "            [f1img.shape[1], 0],\n",
    "            [f1img.shape[1], f1img.shape[0]],\n",
    "            [0, f1img.shape[0]],\n",
    "        ],\n",
    "        dtype=np.float32,\n",
    "    )\n",
    "    corners_warp = perspective_transform(corners, M)\n",
    "    f2_ann = cv.polylines(\n",
    "        f2img.copy(), [np.int32(corners_warp)], True, 255, 3, cv.LINE_AA\n",
    "    )\n",
    "    # blend the person frame on the empty frame\n",
    "    f1_warped = cv.warpPerspective(f1img, M, f1img.shape[:2][::-1])\n",
    "    f_blend = cv.addWeighted(f1_warped, 0.5, f2_ann, 0.5, 0)\n",
    "\n",
    "    fig, ax = plt.subplots(1, 1)\n",
    "    ax_params = dict(\n",
    "        which=\"both\",\n",
    "        # bottom=False,\n",
    "        # top=False,\n",
    "        # left=False,\n",
    "        # right=False,\n",
    "        labelbottom=False,\n",
    "        labeltop=False,\n",
    "        labelleft=False,\n",
    "        labelright=False,\n",
    "    )\n",
    "    ax.tick_params(**ax_params)\n",
    "    ax.set_title(f\"{f1.idx} -> {f2.idx}\")\n",
    "    cv_imshow(f_blend, ax=ax)\n",
    "\n",
    "    plt.show()\n"
   ]
  },
  {
   "cell_type": "code",
   "execution_count": null,
   "metadata": {},
   "outputs": [],
   "source": [
    "# f1 = per_frames[0]\n",
    "# f2 = empty_frames[0]\n",
    "\n",
    "f1 = per_frames[7]\n",
    "f2 = empty_frames[11]\n",
    "\n",
    "\n",
    "def homography_distance(f1: Frame, f2: Frame, do_plot: bool = False) -> float:\n",
    "    lg.debug(f\"{f1.usec=} {f2.usec=}\")\n",
    "    f1img = f1.frame\n",
    "    f2img = f2.frame\n",
    "\n",
    "    # shrink images to speed up computation\n",
    "    f1img = cv.resize(f1img, (0, 0), fx=0.5, fy=0.5)\n",
    "    f2img = cv.resize(f2img, (0, 0), fx=0.5, fy=0.5)\n",
    "\n",
    "    M = compute_homography(f1img, f2img)\n",
    "    print('compute homography could fail, assign standard high distance') \n",
    "    corners = np.array(\n",
    "        [\n",
    "            [0, 0],\n",
    "            [f1img.shape[1], 0],\n",
    "            [f1img.shape[1], f1img.shape[0]],\n",
    "            [0, f1img.shape[0]],\n",
    "        ],\n",
    "        dtype=np.float32,\n",
    "    )\n",
    "    corners_warp = perspective_transform(corners, M)\n",
    "    corners_delta = corners_warp - corners\n",
    "    dist = np.linalg.norm(corners_delta, axis=1).mean()\n",
    "\n",
    "    # draw the first image warped on the second\n",
    "    # rather than doing this, turn homography_distance into a class\n",
    "    # maybe a single class with class methods?\n",
    "    if do_plot:\n",
    "        show_warp(\n",
    "            Frame(f1img, f1.usec, f1.idx),\n",
    "            Frame(f2img, f2.usec, f2.idx),\n",
    "            M,\n",
    "        )\n",
    "\n",
    "    return dist\n",
    "\n",
    "\n",
    "homography_distance(f1, f2)\n"
   ]
  },
  {
   "cell_type": "code",
   "execution_count": null,
   "metadata": {},
   "outputs": [],
   "source": [
    "# # draw the warped corners on the image\n",
    "# f2_ann = cv.polylines(\n",
    "#     f2.frame.copy(), [np.int32(corners_warp)], True, 255, 3, cv.LINE_AA\n",
    "# )\n",
    "# # blend the person frame on the empty frame\n",
    "# f1_warped = cv.warpPerspective(f1.frame, M, f1.frame.shape[:2][::-1])\n",
    "# f_blend = cv.addWeighted(f1_warped, 0.5, f2_ann, 0.5, 0)\n",
    "# cv_imshow(f_blend)\n"
   ]
  },
  {
   "cell_type": "code",
   "execution_count": null,
   "metadata": {},
   "outputs": [],
   "source": [
    "len(per_frames), len(empty_frames)"
   ]
  },
  {
   "cell_type": "code",
   "execution_count": null,
   "metadata": {},
   "outputs": [],
   "source": [
    "from fastdtw.fastdtw import fastdtw\n",
    "\n",
    "# from fastdtw.fastdtw import __dtw\n",
    "from fastdtw.fastdtw import __fastdtw\n",
    "\n",
    "# distance, path = fastdtw(\n",
    "distance, path = __fastdtw(\n",
    "    per_frames[:5],\n",
    "    empty_frames[:5],\n",
    "    10,\n",
    "    dist=homography_distance,\n",
    ")\n",
    "print(distance, path)\n"
   ]
  },
  {
   "cell_type": "code",
   "execution_count": null,
   "metadata": {},
   "outputs": [],
   "source": [
    "# plt.plot([x[0] for x in path], [x[1] for x in path])\n",
    "plt.scatter([x[0] for x in path], [x[1] for x in path])"
   ]
  },
  {
   "cell_type": "code",
   "execution_count": null,
   "metadata": {},
   "outputs": [],
   "source": [
    "path"
   ]
  },
  {
   "cell_type": "code",
   "execution_count": null,
   "metadata": {},
   "outputs": [],
   "source": [
    "import pandas as pd\n",
    "\n",
    "pathdf = pd.DataFrame(\n",
    "    path,\n",
    "    columns=[\"per_idx\", \"empty_idx\"],\n",
    ")\n",
    "pathdf[\"per_usec\"] = pathdf[\"per_idx\"].apply(lambda idx: per_frames[idx].usec)\n",
    "pathdf[\"empty_usec\"] = pathdf[\"empty_idx\"].apply(lambda idx: empty_frames[idx].usec)\n",
    "pathdf.head(20)\n"
   ]
  },
  {
   "cell_type": "code",
   "execution_count": null,
   "metadata": {},
   "outputs": [],
   "source": [
    "# per_usec_new = np.arange(100_000, 3_000_001, 100_000)\n",
    "# # use both new and existing per_usec\n",
    "# per_usec_all = np.concatenate([per_usec_new, pathdf[\"per_usec\"].values])\n",
    "# per_usec_all.sort()\n",
    "# per_usec_all\n"
   ]
  },
  {
   "cell_type": "code",
   "execution_count": null,
   "metadata": {},
   "outputs": [],
   "source": [
    "# path_all = (\n",
    "#     pathdf.set_index(\"per_usec\")\n",
    "#     .reindex(per_usec_all)\n",
    "#     .reset_index()\n",
    "#     # [[\"per_usec\", \"empty_usec\"]]\n",
    "# )\n",
    "# path_all.head()\n"
   ]
  },
  {
   "cell_type": "code",
   "execution_count": null,
   "metadata": {},
   "outputs": [],
   "source": [
    "# # use pandas to interpolate the empty_usec values\n",
    "# path_all[\"empty_usec\"] = path_all[\"empty_usec\"].interpolate(method=\"linear\")\n",
    "# path_all.loc[10:20]\n"
   ]
  },
  {
   "cell_type": "code",
   "execution_count": null,
   "metadata": {},
   "outputs": [],
   "source": [
    "def interpolate_empty_usec(\n",
    "    pathdf: pd.DataFrame,\n",
    "    new_per_usec: int,\n",
    ") -> int:\n",
    "    \"\"\"\"\"\"\n",
    "    per_usec_before = pathdf[pathdf[\"per_usec\"] <= new_per_usec][\"per_usec\"].max()\n",
    "    per_usec_after = pathdf[pathdf[\"per_usec\"] > new_per_usec][\"per_usec\"].min()\n",
    "    print(per_usec_before, per_usec_after)\n",
    "\n",
    "    em_usec_before, em_usec_after = pathdf[\n",
    "        pathdf[\"per_usec\"].isin([per_usec_before, per_usec_after])\n",
    "    ][\"empty_usec\"].values\n",
    "    print(em_usec_before, em_usec_after)\n",
    "\n",
    "    # interpolate the empty_usec value\n",
    "    em_usec_new = em_usec_before + (new_per_usec - per_usec_before) * (\n",
    "        em_usec_after - em_usec_before\n",
    "    ) / (per_usec_after - per_usec_before)\n",
    "    print(em_usec_new)\n",
    "    return int(em_usec_new)\n",
    "\n",
    "\n",
    "new_per_usec = 1_000_000\n",
    "interpolate_empty_usec(pathdf, new_per_usec)\n"
   ]
  },
  {
   "cell_type": "code",
   "execution_count": null,
   "metadata": {},
   "outputs": [],
   "source": [
    "# # show the path frame warps\n",
    "# for per_idx, empty_idx in path:\n",
    "#     f1 = per_frames[per_idx]\n",
    "#     f2 = empty_frames[empty_idx]\n",
    "#     homography_distance(f1, f2, do_plot=True)\n"
   ]
  }
 ],
 "metadata": {
  "kernelspec": {
   "display_name": "climbing-wire-IpulR3Hj-py3.11",
   "language": "python",
   "name": "python3"
  },
  "language_info": {
   "codemirror_mode": {
    "name": "ipython",
    "version": 3
   },
   "file_extension": ".py",
   "mimetype": "text/x-python",
   "name": "python",
   "nbconvert_exporter": "python",
   "pygments_lexer": "ipython3",
   "version": "3.11.2"
  },
  "orig_nbformat": 4
 },
 "nbformat": 4,
 "nbformat_minor": 2
}
