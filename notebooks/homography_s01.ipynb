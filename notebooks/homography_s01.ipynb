{
 "cells": [
  {
   "cell_type": "code",
   "execution_count": null,
   "metadata": {},
   "outputs": [],
   "source": [
    "%load_ext autoreload\n",
    "%autoreload 2"
   ]
  },
  {
   "cell_type": "code",
   "execution_count": null,
   "metadata": {},
   "outputs": [],
   "source": [
    "from climbing_wire.homography.homography import compute_homography\n",
    "from climbing_wire.utils.cv import cv_imshow\n",
    "from climbing_wire.utils.cv import imread_fol\n",
    "from climbing_wire.utils.data import get_package_fol\n",
    "from matplotlib import pyplot as plt\n",
    "import cv2 as cv\n",
    "import math\n",
    "import matplotlib.pyplot as plt\n",
    "import mediapipe as mp\n",
    "import numpy as np\n",
    "import pathlib\n"
   ]
  },
  {
   "cell_type": "code",
   "execution_count": null,
   "metadata": {},
   "outputs": [],
   "source": [
    "img_fol = get_package_fol(\"sample_square\")\n"
   ]
  },
  {
   "cell_type": "code",
   "execution_count": null,
   "metadata": {},
   "outputs": [],
   "source": [
    "# Read images with OpenCV.\n",
    "imgs = imread_fol(img_fol)\n",
    "img_names = list(imgs)\n",
    "print(f\"{img_names=}\")\n"
   ]
  },
  {
   "cell_type": "code",
   "execution_count": null,
   "metadata": {},
   "outputs": [],
   "source": [
    "img1 = imgs[img_names[0]]\n",
    "img2 = imgs[img_names[1]]\n",
    "\n",
    "M = compute_homography(img1, img2)\n",
    "\n",
    "img1_warped = cv.warpPerspective(img1, M, img1.shape[:2])\n",
    "\n",
    "fig, axes = plt.subplots(1, 2)\n",
    "cv_imshow(img1_warped, ax=axes[0])\n",
    "cv_imshow(img2, ax=axes[1])\n"
   ]
  },
  {
   "cell_type": "code",
   "execution_count": null,
   "metadata": {},
   "outputs": [],
   "source": [
    "# blend the two images together\n",
    "img_blend = cv.addWeighted(img1_warped, 0.5, img2, 0.5, 0)\n",
    "cv_imshow(img_blend)\n"
   ]
  }
 ],
 "metadata": {
  "kernelspec": {
   "display_name": "climbing-wire-mNXHxvhL-py3.11",
   "language": "python",
   "name": "python3"
  },
  "language_info": {
   "codemirror_mode": {
    "name": "ipython",
    "version": 3
   },
   "file_extension": ".py",
   "mimetype": "text/x-python",
   "name": "python",
   "nbconvert_exporter": "python",
   "pygments_lexer": "ipython3",
   "version": "3.11.2"
  },
  "orig_nbformat": 4
 },
 "nbformat": 4,
 "nbformat_minor": 2
}
