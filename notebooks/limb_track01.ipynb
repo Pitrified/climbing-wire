{
 "cells": [
  {
   "cell_type": "code",
   "execution_count": null,
   "metadata": {},
   "outputs": [],
   "source": [
    "%load_ext autoreload\n",
    "%autoreload 2"
   ]
  },
  {
   "cell_type": "code",
   "execution_count": null,
   "metadata": {},
   "outputs": [],
   "source": [
    "from climbing_wire.homography.homography import compute_homography\n",
    "from climbing_wire.homography.homography import perspective_transform\n",
    "from climbing_wire.landmark.compute import PoseImg\n",
    "from climbing_wire.landmark.compute import compute_landmarks\n",
    "from climbing_wire.landmark.drawing import draw_landmarks\n",
    "from climbing_wire.landmark.landmark_list import LandmarkListImg\n",
    "from climbing_wire.utils.cv import cv_imshow\n",
    "from climbing_wire.utils.data import get_package_fol\n",
    "from climbing_wire.utils.mediapipe import JOINT_NAMES\n",
    "from climbing_wire.utils.mediapipe import get_default_pose_connections\n",
    "from climbing_wire.video.load import iterate_video_frames, pairwise_video_frames\n",
    "from matplotlib import pyplot as plt\n",
    "from pathlib import Path\n",
    "from typing import List, Tuple, cast\n",
    "import cv2 as cv\n",
    "import math\n",
    "import matplotlib.pyplot as plt\n",
    "import mediapipe as mp\n",
    "import mediapipe.python.solutions.drawing_styles as mp_drawing_styles\n",
    "import mediapipe.python.solutions.drawing_utils as mp_drawing\n",
    "import mediapipe.python.solutions.pose as mp_pose\n",
    "import numpy as np\n",
    "import pathlib\n",
    "import sys\n"
   ]
  },
  {
   "cell_type": "code",
   "execution_count": null,
   "metadata": {},
   "outputs": [],
   "source": [
    "# pose_connections = get_default_pose_connections()\n"
   ]
  },
  {
   "cell_type": "code",
   "execution_count": null,
   "metadata": {},
   "outputs": [],
   "source": [
    "in_fol = Path(\"/mnt/c/Users/nobilip/Videos/dataset/rock\")\n",
    "in_fn = \"PXL_20220901_202119640.mp4\"\n",
    "in_vid_path = in_fol / in_fn\n"
   ]
  },
  {
   "cell_type": "code",
   "execution_count": null,
   "metadata": {},
   "outputs": [],
   "source": [
    "img_fol = get_package_fol(\"sample_square\")\n",
    "img_path = img_fol / \"photo_0_s.jpg\"\n",
    "img = cv.imread(str(img_path))\n",
    "# cv_imshow(img)\n"
   ]
  },
  {
   "cell_type": "code",
   "execution_count": null,
   "metadata": {},
   "outputs": [],
   "source": [
    "landlist: LandmarkListImg = PoseImg()(img)  # type: ignore # not a None\n",
    "print(f\"{landlist=}\")\n",
    "landlist.get_landmark_for_joint(\"left_foot\")\n"
   ]
  },
  {
   "cell_type": "code",
   "execution_count": null,
   "metadata": {},
   "outputs": [],
   "source": [
    "# https://stackoverflow.com/a/22394181/2237151\n",
    "# arr = np.empty((0,3), int)\n",
    "# arr = np.append(arr, np.array([[1,2,3]]), axis=0)\n"
   ]
  },
  {
   "cell_type": "code",
   "execution_count": null,
   "metadata": {},
   "outputs": [],
   "source": [
    "annotated_image = img.copy()\n",
    "# draw_landmarks(annotated_image, landlist, pose_connections)\n",
    "draw_landmarks(annotated_image, landlist)\n",
    "# cv_imshow(annotated_image)\n"
   ]
  },
  {
   "cell_type": "code",
   "execution_count": null,
   "metadata": {},
   "outputs": [],
   "source": [
    "landmarks = {}\n",
    "for jn in JOINT_NAMES:\n",
    "    landmarks[jn] = np.empty((0, 2), float)\n"
   ]
  },
  {
   "cell_type": "code",
   "execution_count": null,
   "metadata": {},
   "outputs": [],
   "source": [
    "landmarks"
   ]
  },
  {
   "cell_type": "code",
   "execution_count": null,
   "metadata": {},
   "outputs": [],
   "source": [
    "for jn in JOINT_NAMES:\n",
    "    lm = landlist.get_landmark_for_joint(jn)\n",
    "    if lm is None:\n",
    "        continue\n",
    "    print(f\"{jn} {lm=} {lm.shape=}\")\n",
    "    landmarks[jn] = np.append(landmarks[jn], lm, axis=0)\n"
   ]
  },
  {
   "attachments": {},
   "cell_type": "markdown",
   "metadata": {},
   "source": [
    "### Also compute the homography now"
   ]
  },
  {
   "cell_type": "code",
   "execution_count": null,
   "metadata": {},
   "outputs": [],
   "source": [
    "img_path = img_fol / \"photo_0_s.jpg\"\n",
    "frame1 = cv.imread(str(img_path))\n",
    "img_path = img_fol / \"photo_1_s.jpg\"\n",
    "frame2 = cv.imread(str(img_path))\n"
   ]
  },
  {
   "cell_type": "code",
   "execution_count": null,
   "metadata": {},
   "outputs": [],
   "source": [
    "fig, axes = plt.subplots(1, 2)\n",
    "cv_imshow(frame1, ax=axes[0])\n",
    "cv_imshow(frame2, ax=axes[1])\n"
   ]
  },
  {
   "cell_type": "code",
   "execution_count": null,
   "metadata": {},
   "outputs": [],
   "source": [
    "pi = PoseImg(visibility_threshold=0.35)\n"
   ]
  },
  {
   "cell_type": "code",
   "execution_count": null,
   "metadata": {},
   "outputs": [],
   "source": [
    "landlist1: LandmarkListImg = pi(frame1)  # type: ignore # not a None\n",
    "landlist2: LandmarkListImg = pi(frame2)  # type: ignore # not a None\n"
   ]
  },
  {
   "cell_type": "code",
   "execution_count": null,
   "metadata": {},
   "outputs": [],
   "source": [
    "annotated_frame1 = frame1.copy()\n",
    "draw_landmarks(annotated_frame1, landlist1)\n",
    "annotated_frame2 = frame2.copy()\n",
    "draw_landmarks(annotated_frame2, landlist2)\n",
    "\n",
    "fig, axes = plt.subplots(1, 2)\n",
    "cv_imshow(annotated_frame1, ax=axes[0])\n",
    "cv_imshow(annotated_frame2, ax=axes[1])\n"
   ]
  },
  {
   "cell_type": "code",
   "execution_count": null,
   "metadata": {},
   "outputs": [],
   "source": [
    "M = compute_homography(frame1, frame2)\n",
    "\n",
    "frame1_warped = cv.warpPerspective(frame1, M, frame1.shape[:2])\n",
    "\n",
    "fig, axes = plt.subplots(1, 2)\n",
    "cv_imshow(frame1_warped, ax=axes[0])\n",
    "cv_imshow(frame2, ax=axes[1])\n"
   ]
  },
  {
   "cell_type": "code",
   "execution_count": null,
   "metadata": {},
   "outputs": [],
   "source": [
    "landlist1_warped: LandmarkListImg = pi(frame1)  # type: ignore # not a None\n",
    "landlist1_warped.landmarks_img = perspective_transform(\n",
    "    landlist1_warped.landmarks_img.astype(np.float64), M\n",
    ").astype(int)\n",
    "\n",
    "annotated_frame2 = frame2.copy()\n",
    "draw_landmarks(annotated_frame2, landlist1_warped)\n",
    "draw_landmarks(annotated_frame2, landlist2)\n",
    "\n",
    "fig, axes = plt.subplots(1, 1)\n",
    "cv_imshow(annotated_frame2, ax=axes)\n"
   ]
  }
 ],
 "metadata": {
  "kernelspec": {
   "display_name": "climbing-wire-IpulR3Hj-py3.11",
   "language": "python",
   "name": "python3"
  },
  "language_info": {
   "codemirror_mode": {
    "name": "ipython",
    "version": 3
   },
   "file_extension": ".py",
   "mimetype": "text/x-python",
   "name": "python",
   "nbconvert_exporter": "python",
   "pygments_lexer": "ipython3",
   "version": "3.11.2"
  },
  "orig_nbformat": 4
 },
 "nbformat": 4,
 "nbformat_minor": 2
}
